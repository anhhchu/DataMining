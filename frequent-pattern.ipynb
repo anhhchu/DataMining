{
 "cells": [
  {
   "cell_type": "markdown",
   "metadata": {
    "id": "3R-Mrl4c-Ro9"
   },
   "source": [
    "## Association Rule Mining \n",
    "Association rule mining is a technique to identify underlying relations between different items. Take an example of a Super Market where customers can buy variety of items. Usually, there is a pattern in what the customers buy. For instance, mothers with babies buy baby products such as milk and diapers.\n",
    "\n",
    "For instance, if item A and B are bought together more frequently then several steps can be taken to increase the profit. For example:\n",
    "\n",
    "1. A and B can be placed together so that when a customer buys one of the product he doesn't have to go far away to buy the other product.\n",
    "1. People who buy one of the products can be targeted through an advertisement campaign to buy the other.\n",
    "1. Collective discounts can be offered on these products if the customer buys both of them.\n",
    "1. Both A and B can be packaged together.\n",
    "The process of identifying an associations between products is called association rule mining.\n",
    "\n",
    "The most prominent practical application of the algorithm is to recommend products based on the products already present in the user’s cart. Walmart especially has made great use of the algorithm in suggesting products to it’s users."
   ]
  },
  {
   "cell_type": "markdown",
   "metadata": {
    "id": "IJB33NT3Zveo"
   },
   "source": [
    "### Apriori Algorithm for Association Rule Mining\n",
    "\n",
    "Different statistical algorithms have been developed to implement association rule mining, and Apriori is one such algorithm. \n",
    "\n",
    "Apriori algorithm considers 3 important factors which are, support, confidence and lift. Each of these factors is explained as follows:\n",
    "\n",
    "1. Support:\n",
    "The support of item I is defined as the ratio between the number of transactions containing the item I by the total number of transactions expressed as :\n",
    "$Support(I) = \\frac{\\text{number of  transactions containing I}}{\\text{Total number of transactions}}$\n",
    "1. Confidence:\n",
    "Confidence refers to the likelihood that an item B is also bought if item A is bought. It can be calculated by finding the number of transactions where A and B are bought together, divided by total number of transactions where A is bought.\n",
    "$Confidence(A→B) = \\frac{\\text{number of transactions containing both (A and B)}}{\\text{number of transactions containing A}}$\n",
    "1. Lift:\n",
    "Lift(A -> B) refers to the increase in the ratio of sale of B when A is sold. \n",
    "$Lift(A→B) = \\frac{\\text{Confidence (A→B)}}{\\text{Support (B)}}$\n",
    "\n"
   ]
  },
  {
   "cell_type": "markdown",
   "metadata": {
    "id": "l0dSWoGxRaqp"
   },
   "source": [
    "### 1. Installation\n",
    "[Mlxtend](http://rasbt.github.io/mlxtend/) (machine learning extensions) is a Python library of useful tools for the day-to-day data science tasks. "
   ]
  },
  {
   "cell_type": "code",
   "execution_count": 1,
   "metadata": {
    "execution": {
     "iopub.execute_input": "2022-01-25T21:19:02.930071Z",
     "iopub.status.busy": "2022-01-25T21:19:02.929589Z",
     "iopub.status.idle": "2022-01-25T21:21:40.891174Z",
     "shell.execute_reply": "2022-01-25T21:21:40.890459Z",
     "shell.execute_reply.started": "2022-01-25T21:19:02.929954Z"
    },
    "id": "Sf9VJo529meK",
    "outputId": "83072092-4678-4409-cbf2-2949ad635ded"
   },
   "outputs": [
    {
     "name": "stdout",
     "output_type": "stream",
     "text": [
      "Requirement already satisfied: mlxtend in /Users/hoanganhchu/opt/anaconda3/lib/python3.8/site-packages (0.19.0)\n",
      "Requirement already satisfied: scipy>=1.2.1 in /Users/hoanganhchu/opt/anaconda3/lib/python3.8/site-packages (from mlxtend) (1.6.2)\n",
      "Requirement already satisfied: scikit-learn>=0.20.3 in /Users/hoanganhchu/opt/anaconda3/lib/python3.8/site-packages (from mlxtend) (0.24.1)\n",
      "Requirement already satisfied: joblib>=0.13.2 in /Users/hoanganhchu/opt/anaconda3/lib/python3.8/site-packages (from mlxtend) (1.0.1)\n",
      "Requirement already satisfied: setuptools in /Users/hoanganhchu/opt/anaconda3/lib/python3.8/site-packages (from mlxtend) (52.0.0.post20210125)\n",
      "Requirement already satisfied: matplotlib>=3.0.0 in /Users/hoanganhchu/opt/anaconda3/lib/python3.8/site-packages (from mlxtend) (3.3.4)\n",
      "Requirement already satisfied: numpy>=1.16.2 in /Users/hoanganhchu/opt/anaconda3/lib/python3.8/site-packages (from mlxtend) (1.20.1)\n",
      "Requirement already satisfied: pandas>=0.24.2 in /Users/hoanganhchu/opt/anaconda3/lib/python3.8/site-packages (from mlxtend) (1.2.4)\n",
      "Requirement already satisfied: python-dateutil>=2.1 in /Users/hoanganhchu/opt/anaconda3/lib/python3.8/site-packages (from matplotlib>=3.0.0->mlxtend) (2.8.1)\n",
      "Requirement already satisfied: pyparsing!=2.0.4,!=2.1.2,!=2.1.6,>=2.0.3 in /Users/hoanganhchu/opt/anaconda3/lib/python3.8/site-packages (from matplotlib>=3.0.0->mlxtend) (2.4.7)\n",
      "Requirement already satisfied: pillow>=6.2.0 in /Users/hoanganhchu/opt/anaconda3/lib/python3.8/site-packages (from matplotlib>=3.0.0->mlxtend) (8.2.0)\n",
      "Requirement already satisfied: cycler>=0.10 in /Users/hoanganhchu/opt/anaconda3/lib/python3.8/site-packages (from matplotlib>=3.0.0->mlxtend) (0.10.0)\n",
      "Requirement already satisfied: kiwisolver>=1.0.1 in /Users/hoanganhchu/opt/anaconda3/lib/python3.8/site-packages (from matplotlib>=3.0.0->mlxtend) (1.3.1)\n",
      "Requirement already satisfied: six in /Users/hoanganhchu/opt/anaconda3/lib/python3.8/site-packages (from cycler>=0.10->matplotlib>=3.0.0->mlxtend) (1.15.0)\n",
      "Requirement already satisfied: pytz>=2017.3 in /Users/hoanganhchu/opt/anaconda3/lib/python3.8/site-packages (from pandas>=0.24.2->mlxtend) (2021.1)\n",
      "Requirement already satisfied: threadpoolctl>=2.0.0 in /Users/hoanganhchu/opt/anaconda3/lib/python3.8/site-packages (from scikit-learn>=0.20.3->mlxtend) (2.1.0)\n",
      "Note: you may need to restart the kernel to use updated packages.\n"
     ]
    }
   ],
   "source": [
    "pip install mlxtend --upgrade"
   ]
  },
  {
   "cell_type": "code",
   "execution_count": 3,
   "metadata": {
    "execution": {
     "iopub.execute_input": "2022-01-25T21:39:24.366992Z",
     "iopub.status.busy": "2022-01-25T21:39:24.366426Z",
     "iopub.status.idle": "2022-01-25T21:39:24.405728Z",
     "shell.execute_reply": "2022-01-25T21:39:24.404933Z",
     "shell.execute_reply.started": "2022-01-25T21:39:24.366855Z"
    },
    "id": "77KO_1MXA4SG"
   },
   "outputs": [],
   "source": [
    "import numpy as np\n",
    "import matplotlib.pyplot as plt\n",
    "import pandas as pd\n",
    "from mlxtend.frequent_patterns import apriori, fpmax, fpgrowth, association_rules"
   ]
  },
  {
   "cell_type": "markdown",
   "metadata": {
    "id": "JFmFbbFRRdH4"
   },
   "source": [
    "### Importing the Dataset\n",
    "Now let's import the dataset and see what we're working with.\n",
    "\n",
    "* Dataset : [Groceries data](http://archive.ics.uci.edu/ml/machine-learning-databases/00352/) "
   ]
  },
  {
   "cell_type": "code",
   "execution_count": 3,
   "metadata": {
    "execution": {
     "iopub.execute_input": "2022-01-25T21:35:06.025032Z",
     "iopub.status.busy": "2022-01-25T21:35:06.024544Z",
     "iopub.status.idle": "2022-01-25T21:37:35.421896Z",
     "shell.execute_reply": "2022-01-25T21:37:35.420844Z",
     "shell.execute_reply.started": "2022-01-25T21:35:06.024992Z"
    }
   },
   "outputs": [
    {
     "name": "stdout",
     "output_type": "stream",
     "text": [
      "Requirement already satisfied: openpyxl in /Users/hoanganhchu/opt/anaconda3/lib/python3.8/site-packages (3.0.7)\n",
      "Requirement already satisfied: et-xmlfile in /Users/hoanganhchu/opt/anaconda3/lib/python3.8/site-packages (from openpyxl) (1.0.1)\n",
      "Note: you may need to restart the kernel to use updated packages.\n"
     ]
    }
   ],
   "source": [
    "pip install openpyxl"
   ]
  },
  {
   "cell_type": "code",
   "execution_count": 4,
   "metadata": {
    "execution": {
     "iopub.execute_input": "2022-01-25T21:39:27.531787Z",
     "iopub.status.busy": "2022-01-25T21:39:27.531466Z",
     "iopub.status.idle": "2022-01-25T21:39:27.685561Z",
     "shell.execute_reply": "2022-01-25T21:39:27.684161Z",
     "shell.execute_reply.started": "2022-01-25T21:39:27.531752Z"
    },
    "id": "Qxk_yzqlG4uC",
    "outputId": "e5191d79-c8f0-4404-9781-0ed7af67f1ff"
   },
   "outputs": [
    {
     "data": {
      "text/plain": [
       "(541909, 8)"
      ]
     },
     "execution_count": 4,
     "metadata": {},
     "output_type": "execute_result"
    }
   ],
   "source": [
    "# Loading the Data\n",
    "data = pd.read_excel('Online Retail.xlsx')\n",
    "data.shape"
   ]
  },
  {
   "cell_type": "code",
   "execution_count": 5,
   "metadata": {
    "id": "FGnPyaiQTYDX",
    "outputId": "131618ac-821a-4be2-eb82-769fcc530f28"
   },
   "outputs": [
    {
     "data": {
      "text/plain": [
       "Index(['InvoiceNo', 'StockCode', 'Description', 'Quantity', 'InvoiceDate',\n",
       "       'UnitPrice', 'CustomerID', 'Country'],\n",
       "      dtype='object')"
      ]
     },
     "execution_count": 5,
     "metadata": {},
     "output_type": "execute_result"
    }
   ],
   "source": [
    "# Exploring the columns of the data\n",
    "data.columns"
   ]
  },
  {
   "cell_type": "code",
   "execution_count": 6,
   "metadata": {
    "id": "BBJWXdtxTng7",
    "outputId": "118d9649-f64c-4e14-b701-76a5dd2f8062"
   },
   "outputs": [
    {
     "data": {
      "text/plain": [
       "array(['United Kingdom', 'France', 'Australia', 'Netherlands', 'Germany',\n",
       "       'Norway', 'EIRE', 'Switzerland', 'Spain', 'Poland', 'Portugal',\n",
       "       'Italy', 'Belgium', 'Lithuania', 'Japan', 'Iceland',\n",
       "       'Channel Islands', 'Denmark', 'Cyprus', 'Sweden', 'Austria',\n",
       "       'Israel', 'Finland', 'Bahrain', 'Greece', 'Hong Kong', 'Singapore',\n",
       "       'Lebanon', 'United Arab Emirates', 'Saudi Arabia',\n",
       "       'Czech Republic', 'Canada', 'Unspecified', 'Brazil', 'USA',\n",
       "       'European Community', 'Malta', 'RSA'], dtype=object)"
      ]
     },
     "execution_count": 6,
     "metadata": {},
     "output_type": "execute_result"
    }
   ],
   "source": [
    "# Exploring the different regions of transactions\n",
    "data.Country.unique()"
   ]
  },
  {
   "cell_type": "code",
   "execution_count": 7,
   "metadata": {
    "id": "s8ZbQyadgkwE",
    "outputId": "d27d843a-f39b-4b20-8679-285e4e2b277c"
   },
   "outputs": [
    {
     "data": {
      "text/html": [
       "<div>\n",
       "<style scoped>\n",
       "    .dataframe tbody tr th:only-of-type {\n",
       "        vertical-align: middle;\n",
       "    }\n",
       "\n",
       "    .dataframe tbody tr th {\n",
       "        vertical-align: top;\n",
       "    }\n",
       "\n",
       "    .dataframe thead th {\n",
       "        text-align: right;\n",
       "    }\n",
       "</style>\n",
       "<table border=\"1\" class=\"dataframe\">\n",
       "  <thead>\n",
       "    <tr style=\"text-align: right;\">\n",
       "      <th></th>\n",
       "      <th>InvoiceNo</th>\n",
       "      <th>StockCode</th>\n",
       "      <th>Description</th>\n",
       "      <th>Quantity</th>\n",
       "      <th>InvoiceDate</th>\n",
       "      <th>UnitPrice</th>\n",
       "      <th>CustomerID</th>\n",
       "    </tr>\n",
       "    <tr>\n",
       "      <th>Country</th>\n",
       "      <th></th>\n",
       "      <th></th>\n",
       "      <th></th>\n",
       "      <th></th>\n",
       "      <th></th>\n",
       "      <th></th>\n",
       "      <th></th>\n",
       "    </tr>\n",
       "  </thead>\n",
       "  <tbody>\n",
       "    <tr>\n",
       "      <th>Australia</th>\n",
       "      <td>1259</td>\n",
       "      <td>1259</td>\n",
       "      <td>1259</td>\n",
       "      <td>1259</td>\n",
       "      <td>1259</td>\n",
       "      <td>1259</td>\n",
       "      <td>1259</td>\n",
       "    </tr>\n",
       "    <tr>\n",
       "      <th>Austria</th>\n",
       "      <td>401</td>\n",
       "      <td>401</td>\n",
       "      <td>401</td>\n",
       "      <td>401</td>\n",
       "      <td>401</td>\n",
       "      <td>401</td>\n",
       "      <td>401</td>\n",
       "    </tr>\n",
       "    <tr>\n",
       "      <th>Bahrain</th>\n",
       "      <td>19</td>\n",
       "      <td>19</td>\n",
       "      <td>19</td>\n",
       "      <td>19</td>\n",
       "      <td>19</td>\n",
       "      <td>19</td>\n",
       "      <td>17</td>\n",
       "    </tr>\n",
       "    <tr>\n",
       "      <th>Belgium</th>\n",
       "      <td>2069</td>\n",
       "      <td>2069</td>\n",
       "      <td>2069</td>\n",
       "      <td>2069</td>\n",
       "      <td>2069</td>\n",
       "      <td>2069</td>\n",
       "      <td>2069</td>\n",
       "    </tr>\n",
       "    <tr>\n",
       "      <th>Brazil</th>\n",
       "      <td>32</td>\n",
       "      <td>32</td>\n",
       "      <td>32</td>\n",
       "      <td>32</td>\n",
       "      <td>32</td>\n",
       "      <td>32</td>\n",
       "      <td>32</td>\n",
       "    </tr>\n",
       "    <tr>\n",
       "      <th>Canada</th>\n",
       "      <td>151</td>\n",
       "      <td>151</td>\n",
       "      <td>151</td>\n",
       "      <td>151</td>\n",
       "      <td>151</td>\n",
       "      <td>151</td>\n",
       "      <td>151</td>\n",
       "    </tr>\n",
       "    <tr>\n",
       "      <th>Channel Islands</th>\n",
       "      <td>758</td>\n",
       "      <td>758</td>\n",
       "      <td>758</td>\n",
       "      <td>758</td>\n",
       "      <td>758</td>\n",
       "      <td>758</td>\n",
       "      <td>758</td>\n",
       "    </tr>\n",
       "    <tr>\n",
       "      <th>Cyprus</th>\n",
       "      <td>622</td>\n",
       "      <td>622</td>\n",
       "      <td>622</td>\n",
       "      <td>622</td>\n",
       "      <td>622</td>\n",
       "      <td>622</td>\n",
       "      <td>622</td>\n",
       "    </tr>\n",
       "    <tr>\n",
       "      <th>Czech Republic</th>\n",
       "      <td>30</td>\n",
       "      <td>30</td>\n",
       "      <td>30</td>\n",
       "      <td>30</td>\n",
       "      <td>30</td>\n",
       "      <td>30</td>\n",
       "      <td>30</td>\n",
       "    </tr>\n",
       "    <tr>\n",
       "      <th>Denmark</th>\n",
       "      <td>389</td>\n",
       "      <td>389</td>\n",
       "      <td>389</td>\n",
       "      <td>389</td>\n",
       "      <td>389</td>\n",
       "      <td>389</td>\n",
       "      <td>389</td>\n",
       "    </tr>\n",
       "    <tr>\n",
       "      <th>EIRE</th>\n",
       "      <td>8196</td>\n",
       "      <td>8196</td>\n",
       "      <td>8196</td>\n",
       "      <td>8196</td>\n",
       "      <td>8196</td>\n",
       "      <td>8196</td>\n",
       "      <td>7485</td>\n",
       "    </tr>\n",
       "    <tr>\n",
       "      <th>European Community</th>\n",
       "      <td>61</td>\n",
       "      <td>61</td>\n",
       "      <td>61</td>\n",
       "      <td>61</td>\n",
       "      <td>61</td>\n",
       "      <td>61</td>\n",
       "      <td>61</td>\n",
       "    </tr>\n",
       "    <tr>\n",
       "      <th>Finland</th>\n",
       "      <td>695</td>\n",
       "      <td>695</td>\n",
       "      <td>695</td>\n",
       "      <td>695</td>\n",
       "      <td>695</td>\n",
       "      <td>695</td>\n",
       "      <td>695</td>\n",
       "    </tr>\n",
       "    <tr>\n",
       "      <th>France</th>\n",
       "      <td>8557</td>\n",
       "      <td>8557</td>\n",
       "      <td>8557</td>\n",
       "      <td>8557</td>\n",
       "      <td>8557</td>\n",
       "      <td>8557</td>\n",
       "      <td>8491</td>\n",
       "    </tr>\n",
       "    <tr>\n",
       "      <th>Germany</th>\n",
       "      <td>9495</td>\n",
       "      <td>9495</td>\n",
       "      <td>9495</td>\n",
       "      <td>9495</td>\n",
       "      <td>9495</td>\n",
       "      <td>9495</td>\n",
       "      <td>9495</td>\n",
       "    </tr>\n",
       "    <tr>\n",
       "      <th>Greece</th>\n",
       "      <td>146</td>\n",
       "      <td>146</td>\n",
       "      <td>146</td>\n",
       "      <td>146</td>\n",
       "      <td>146</td>\n",
       "      <td>146</td>\n",
       "      <td>146</td>\n",
       "    </tr>\n",
       "    <tr>\n",
       "      <th>Hong Kong</th>\n",
       "      <td>288</td>\n",
       "      <td>288</td>\n",
       "      <td>288</td>\n",
       "      <td>288</td>\n",
       "      <td>288</td>\n",
       "      <td>288</td>\n",
       "      <td>0</td>\n",
       "    </tr>\n",
       "    <tr>\n",
       "      <th>Iceland</th>\n",
       "      <td>182</td>\n",
       "      <td>182</td>\n",
       "      <td>182</td>\n",
       "      <td>182</td>\n",
       "      <td>182</td>\n",
       "      <td>182</td>\n",
       "      <td>182</td>\n",
       "    </tr>\n",
       "    <tr>\n",
       "      <th>Israel</th>\n",
       "      <td>297</td>\n",
       "      <td>297</td>\n",
       "      <td>297</td>\n",
       "      <td>297</td>\n",
       "      <td>297</td>\n",
       "      <td>297</td>\n",
       "      <td>250</td>\n",
       "    </tr>\n",
       "    <tr>\n",
       "      <th>Italy</th>\n",
       "      <td>803</td>\n",
       "      <td>803</td>\n",
       "      <td>803</td>\n",
       "      <td>803</td>\n",
       "      <td>803</td>\n",
       "      <td>803</td>\n",
       "      <td>803</td>\n",
       "    </tr>\n",
       "    <tr>\n",
       "      <th>Japan</th>\n",
       "      <td>358</td>\n",
       "      <td>358</td>\n",
       "      <td>358</td>\n",
       "      <td>358</td>\n",
       "      <td>358</td>\n",
       "      <td>358</td>\n",
       "      <td>358</td>\n",
       "    </tr>\n",
       "    <tr>\n",
       "      <th>Lebanon</th>\n",
       "      <td>45</td>\n",
       "      <td>45</td>\n",
       "      <td>45</td>\n",
       "      <td>45</td>\n",
       "      <td>45</td>\n",
       "      <td>45</td>\n",
       "      <td>45</td>\n",
       "    </tr>\n",
       "    <tr>\n",
       "      <th>Lithuania</th>\n",
       "      <td>35</td>\n",
       "      <td>35</td>\n",
       "      <td>35</td>\n",
       "      <td>35</td>\n",
       "      <td>35</td>\n",
       "      <td>35</td>\n",
       "      <td>35</td>\n",
       "    </tr>\n",
       "    <tr>\n",
       "      <th>Malta</th>\n",
       "      <td>127</td>\n",
       "      <td>127</td>\n",
       "      <td>127</td>\n",
       "      <td>127</td>\n",
       "      <td>127</td>\n",
       "      <td>127</td>\n",
       "      <td>127</td>\n",
       "    </tr>\n",
       "    <tr>\n",
       "      <th>Netherlands</th>\n",
       "      <td>2371</td>\n",
       "      <td>2371</td>\n",
       "      <td>2371</td>\n",
       "      <td>2371</td>\n",
       "      <td>2371</td>\n",
       "      <td>2371</td>\n",
       "      <td>2371</td>\n",
       "    </tr>\n",
       "    <tr>\n",
       "      <th>Norway</th>\n",
       "      <td>1086</td>\n",
       "      <td>1086</td>\n",
       "      <td>1086</td>\n",
       "      <td>1086</td>\n",
       "      <td>1086</td>\n",
       "      <td>1086</td>\n",
       "      <td>1086</td>\n",
       "    </tr>\n",
       "    <tr>\n",
       "      <th>Poland</th>\n",
       "      <td>341</td>\n",
       "      <td>341</td>\n",
       "      <td>341</td>\n",
       "      <td>341</td>\n",
       "      <td>341</td>\n",
       "      <td>341</td>\n",
       "      <td>341</td>\n",
       "    </tr>\n",
       "    <tr>\n",
       "      <th>Portugal</th>\n",
       "      <td>1519</td>\n",
       "      <td>1519</td>\n",
       "      <td>1519</td>\n",
       "      <td>1519</td>\n",
       "      <td>1519</td>\n",
       "      <td>1519</td>\n",
       "      <td>1480</td>\n",
       "    </tr>\n",
       "    <tr>\n",
       "      <th>RSA</th>\n",
       "      <td>58</td>\n",
       "      <td>58</td>\n",
       "      <td>58</td>\n",
       "      <td>58</td>\n",
       "      <td>58</td>\n",
       "      <td>58</td>\n",
       "      <td>58</td>\n",
       "    </tr>\n",
       "    <tr>\n",
       "      <th>Saudi Arabia</th>\n",
       "      <td>10</td>\n",
       "      <td>10</td>\n",
       "      <td>10</td>\n",
       "      <td>10</td>\n",
       "      <td>10</td>\n",
       "      <td>10</td>\n",
       "      <td>10</td>\n",
       "    </tr>\n",
       "    <tr>\n",
       "      <th>Singapore</th>\n",
       "      <td>229</td>\n",
       "      <td>229</td>\n",
       "      <td>229</td>\n",
       "      <td>229</td>\n",
       "      <td>229</td>\n",
       "      <td>229</td>\n",
       "      <td>229</td>\n",
       "    </tr>\n",
       "    <tr>\n",
       "      <th>Spain</th>\n",
       "      <td>2533</td>\n",
       "      <td>2533</td>\n",
       "      <td>2533</td>\n",
       "      <td>2533</td>\n",
       "      <td>2533</td>\n",
       "      <td>2533</td>\n",
       "      <td>2533</td>\n",
       "    </tr>\n",
       "    <tr>\n",
       "      <th>Sweden</th>\n",
       "      <td>462</td>\n",
       "      <td>462</td>\n",
       "      <td>462</td>\n",
       "      <td>462</td>\n",
       "      <td>462</td>\n",
       "      <td>462</td>\n",
       "      <td>462</td>\n",
       "    </tr>\n",
       "    <tr>\n",
       "      <th>Switzerland</th>\n",
       "      <td>2002</td>\n",
       "      <td>2002</td>\n",
       "      <td>2002</td>\n",
       "      <td>2002</td>\n",
       "      <td>2002</td>\n",
       "      <td>2002</td>\n",
       "      <td>1877</td>\n",
       "    </tr>\n",
       "    <tr>\n",
       "      <th>USA</th>\n",
       "      <td>291</td>\n",
       "      <td>291</td>\n",
       "      <td>291</td>\n",
       "      <td>291</td>\n",
       "      <td>291</td>\n",
       "      <td>291</td>\n",
       "      <td>291</td>\n",
       "    </tr>\n",
       "    <tr>\n",
       "      <th>United Arab Emirates</th>\n",
       "      <td>68</td>\n",
       "      <td>68</td>\n",
       "      <td>68</td>\n",
       "      <td>68</td>\n",
       "      <td>68</td>\n",
       "      <td>68</td>\n",
       "      <td>68</td>\n",
       "    </tr>\n",
       "    <tr>\n",
       "      <th>United Kingdom</th>\n",
       "      <td>495478</td>\n",
       "      <td>495478</td>\n",
       "      <td>494024</td>\n",
       "      <td>495478</td>\n",
       "      <td>495478</td>\n",
       "      <td>495478</td>\n",
       "      <td>361878</td>\n",
       "    </tr>\n",
       "    <tr>\n",
       "      <th>Unspecified</th>\n",
       "      <td>446</td>\n",
       "      <td>446</td>\n",
       "      <td>446</td>\n",
       "      <td>446</td>\n",
       "      <td>446</td>\n",
       "      <td>446</td>\n",
       "      <td>244</td>\n",
       "    </tr>\n",
       "  </tbody>\n",
       "</table>\n",
       "</div>"
      ],
      "text/plain": [
       "                      InvoiceNo  StockCode  Description  Quantity  \\\n",
       "Country                                                             \n",
       "Australia                  1259       1259         1259      1259   \n",
       "Austria                     401        401          401       401   \n",
       "Bahrain                      19         19           19        19   \n",
       "Belgium                    2069       2069         2069      2069   \n",
       "Brazil                       32         32           32        32   \n",
       "Canada                      151        151          151       151   \n",
       "Channel Islands             758        758          758       758   \n",
       "Cyprus                      622        622          622       622   \n",
       "Czech Republic               30         30           30        30   \n",
       "Denmark                     389        389          389       389   \n",
       "EIRE                       8196       8196         8196      8196   \n",
       "European Community           61         61           61        61   \n",
       "Finland                     695        695          695       695   \n",
       "France                     8557       8557         8557      8557   \n",
       "Germany                    9495       9495         9495      9495   \n",
       "Greece                      146        146          146       146   \n",
       "Hong Kong                   288        288          288       288   \n",
       "Iceland                     182        182          182       182   \n",
       "Israel                      297        297          297       297   \n",
       "Italy                       803        803          803       803   \n",
       "Japan                       358        358          358       358   \n",
       "Lebanon                      45         45           45        45   \n",
       "Lithuania                    35         35           35        35   \n",
       "Malta                       127        127          127       127   \n",
       "Netherlands                2371       2371         2371      2371   \n",
       "Norway                     1086       1086         1086      1086   \n",
       "Poland                      341        341          341       341   \n",
       "Portugal                   1519       1519         1519      1519   \n",
       "RSA                          58         58           58        58   \n",
       "Saudi Arabia                 10         10           10        10   \n",
       "Singapore                   229        229          229       229   \n",
       "Spain                      2533       2533         2533      2533   \n",
       "Sweden                      462        462          462       462   \n",
       "Switzerland                2002       2002         2002      2002   \n",
       "USA                         291        291          291       291   \n",
       "United Arab Emirates         68         68           68        68   \n",
       "United Kingdom           495478     495478       494024    495478   \n",
       "Unspecified                 446        446          446       446   \n",
       "\n",
       "                      InvoiceDate  UnitPrice  CustomerID  \n",
       "Country                                                   \n",
       "Australia                    1259       1259        1259  \n",
       "Austria                       401        401         401  \n",
       "Bahrain                        19         19          17  \n",
       "Belgium                      2069       2069        2069  \n",
       "Brazil                         32         32          32  \n",
       "Canada                        151        151         151  \n",
       "Channel Islands               758        758         758  \n",
       "Cyprus                        622        622         622  \n",
       "Czech Republic                 30         30          30  \n",
       "Denmark                       389        389         389  \n",
       "EIRE                         8196       8196        7485  \n",
       "European Community             61         61          61  \n",
       "Finland                       695        695         695  \n",
       "France                       8557       8557        8491  \n",
       "Germany                      9495       9495        9495  \n",
       "Greece                        146        146         146  \n",
       "Hong Kong                     288        288           0  \n",
       "Iceland                       182        182         182  \n",
       "Israel                        297        297         250  \n",
       "Italy                         803        803         803  \n",
       "Japan                         358        358         358  \n",
       "Lebanon                        45         45          45  \n",
       "Lithuania                      35         35          35  \n",
       "Malta                         127        127         127  \n",
       "Netherlands                  2371       2371        2371  \n",
       "Norway                       1086       1086        1086  \n",
       "Poland                        341        341         341  \n",
       "Portugal                     1519       1519        1480  \n",
       "RSA                            58         58          58  \n",
       "Saudi Arabia                   10         10          10  \n",
       "Singapore                     229        229         229  \n",
       "Spain                        2533       2533        2533  \n",
       "Sweden                        462        462         462  \n",
       "Switzerland                  2002       2002        1877  \n",
       "USA                           291        291         291  \n",
       "United Arab Emirates           68         68          68  \n",
       "United Kingdom             495478     495478      361878  \n",
       "Unspecified                   446        446         244  "
      ]
     },
     "execution_count": 7,
     "metadata": {},
     "output_type": "execute_result"
    }
   ],
   "source": [
    "data.groupby('Country').count()"
   ]
  },
  {
   "cell_type": "markdown",
   "metadata": {
    "id": "6RoR1ONRQ5Rh"
   },
   "source": [
    "### Data Proprocessing\n",
    "\n",
    "1. We will drop the rows without any invoice number\n",
    "1. We will drop all transactions which were done on credit\n",
    "1. Splitting the data according to the region of transaction \n",
    "1. Dropping all transactions which the frequency is less than 4\n"
   ]
  },
  {
   "cell_type": "code",
   "execution_count": 8,
   "metadata": {
    "id": "qnjBKHn-HPOF"
   },
   "outputs": [],
   "source": [
    "# Stripping extra spaces in the description\n",
    "data['Description'] = data['Description'].str.strip()\n",
    " \n",
    "# Dropping the rows without any invoice number\n",
    "data.dropna(axis = 0, subset =['InvoiceNo'], inplace = True)\n",
    "data['InvoiceNo'] = data['InvoiceNo'].astype('str')\n",
    " \n",
    "# Dropping all transactions which were done on credit\n",
    "data = data[~data['InvoiceNo'].str.contains('C')]"
   ]
  },
  {
   "cell_type": "code",
   "execution_count": 9,
   "metadata": {
    "id": "7xLu7UwWT28E",
    "outputId": "fed0307f-8ebf-43b0-def8-422131e8057a"
   },
   "outputs": [
    {
     "data": {
      "text/html": [
       "<div>\n",
       "<style scoped>\n",
       "    .dataframe tbody tr th:only-of-type {\n",
       "        vertical-align: middle;\n",
       "    }\n",
       "\n",
       "    .dataframe tbody tr th {\n",
       "        vertical-align: top;\n",
       "    }\n",
       "\n",
       "    .dataframe thead th {\n",
       "        text-align: right;\n",
       "    }\n",
       "</style>\n",
       "<table border=\"1\" class=\"dataframe\">\n",
       "  <thead>\n",
       "    <tr style=\"text-align: right;\">\n",
       "      <th></th>\n",
       "      <th>Quantity</th>\n",
       "      <th>UnitPrice</th>\n",
       "      <th>CustomerID</th>\n",
       "    </tr>\n",
       "  </thead>\n",
       "  <tbody>\n",
       "    <tr>\n",
       "      <th>count</th>\n",
       "      <td>532621.000000</td>\n",
       "      <td>532621.000000</td>\n",
       "      <td>397924.000000</td>\n",
       "    </tr>\n",
       "    <tr>\n",
       "      <th>mean</th>\n",
       "      <td>10.239972</td>\n",
       "      <td>3.847621</td>\n",
       "      <td>15294.315171</td>\n",
       "    </tr>\n",
       "    <tr>\n",
       "      <th>std</th>\n",
       "      <td>159.593551</td>\n",
       "      <td>41.758023</td>\n",
       "      <td>1713.169877</td>\n",
       "    </tr>\n",
       "    <tr>\n",
       "      <th>min</th>\n",
       "      <td>-9600.000000</td>\n",
       "      <td>-11062.060000</td>\n",
       "      <td>12346.000000</td>\n",
       "    </tr>\n",
       "    <tr>\n",
       "      <th>25%</th>\n",
       "      <td>1.000000</td>\n",
       "      <td>1.250000</td>\n",
       "      <td>13969.000000</td>\n",
       "    </tr>\n",
       "    <tr>\n",
       "      <th>50%</th>\n",
       "      <td>3.000000</td>\n",
       "      <td>2.080000</td>\n",
       "      <td>15159.000000</td>\n",
       "    </tr>\n",
       "    <tr>\n",
       "      <th>75%</th>\n",
       "      <td>10.000000</td>\n",
       "      <td>4.130000</td>\n",
       "      <td>16795.000000</td>\n",
       "    </tr>\n",
       "    <tr>\n",
       "      <th>max</th>\n",
       "      <td>80995.000000</td>\n",
       "      <td>13541.330000</td>\n",
       "      <td>18287.000000</td>\n",
       "    </tr>\n",
       "  </tbody>\n",
       "</table>\n",
       "</div>"
      ],
      "text/plain": [
       "            Quantity      UnitPrice     CustomerID\n",
       "count  532621.000000  532621.000000  397924.000000\n",
       "mean       10.239972       3.847621   15294.315171\n",
       "std       159.593551      41.758023    1713.169877\n",
       "min     -9600.000000  -11062.060000   12346.000000\n",
       "25%         1.000000       1.250000   13969.000000\n",
       "50%         3.000000       2.080000   15159.000000\n",
       "75%        10.000000       4.130000   16795.000000\n",
       "max     80995.000000   13541.330000   18287.000000"
      ]
     },
     "execution_count": 9,
     "metadata": {},
     "output_type": "execute_result"
    }
   ],
   "source": [
    "data.describe()"
   ]
  },
  {
   "cell_type": "code",
   "execution_count": 10,
   "metadata": {
    "id": "p6XvfrNtQx03",
    "outputId": "4f34443c-b1ca-47bd-e1bd-be9a8f630454"
   },
   "outputs": [
    {
     "data": {
      "text/html": [
       "<div>\n",
       "<style scoped>\n",
       "    .dataframe tbody tr th:only-of-type {\n",
       "        vertical-align: middle;\n",
       "    }\n",
       "\n",
       "    .dataframe tbody tr th {\n",
       "        vertical-align: top;\n",
       "    }\n",
       "\n",
       "    .dataframe thead th {\n",
       "        text-align: right;\n",
       "    }\n",
       "</style>\n",
       "<table border=\"1\" class=\"dataframe\">\n",
       "  <thead>\n",
       "    <tr style=\"text-align: right;\">\n",
       "      <th></th>\n",
       "      <th>InvoiceNo</th>\n",
       "      <th>StockCode</th>\n",
       "      <th>Description</th>\n",
       "      <th>Quantity</th>\n",
       "      <th>InvoiceDate</th>\n",
       "      <th>UnitPrice</th>\n",
       "      <th>CustomerID</th>\n",
       "      <th>Country</th>\n",
       "    </tr>\n",
       "  </thead>\n",
       "  <tbody>\n",
       "    <tr>\n",
       "      <th>0</th>\n",
       "      <td>536365</td>\n",
       "      <td>85123A</td>\n",
       "      <td>WHITE HANGING HEART T-LIGHT HOLDER</td>\n",
       "      <td>6</td>\n",
       "      <td>2010-12-01 08:26:00</td>\n",
       "      <td>2.55</td>\n",
       "      <td>17850.0</td>\n",
       "      <td>United Kingdom</td>\n",
       "    </tr>\n",
       "    <tr>\n",
       "      <th>1</th>\n",
       "      <td>536365</td>\n",
       "      <td>71053</td>\n",
       "      <td>WHITE METAL LANTERN</td>\n",
       "      <td>6</td>\n",
       "      <td>2010-12-01 08:26:00</td>\n",
       "      <td>3.39</td>\n",
       "      <td>17850.0</td>\n",
       "      <td>United Kingdom</td>\n",
       "    </tr>\n",
       "    <tr>\n",
       "      <th>2</th>\n",
       "      <td>536365</td>\n",
       "      <td>84406B</td>\n",
       "      <td>CREAM CUPID HEARTS COAT HANGER</td>\n",
       "      <td>8</td>\n",
       "      <td>2010-12-01 08:26:00</td>\n",
       "      <td>2.75</td>\n",
       "      <td>17850.0</td>\n",
       "      <td>United Kingdom</td>\n",
       "    </tr>\n",
       "    <tr>\n",
       "      <th>3</th>\n",
       "      <td>536365</td>\n",
       "      <td>84029G</td>\n",
       "      <td>KNITTED UNION FLAG HOT WATER BOTTLE</td>\n",
       "      <td>6</td>\n",
       "      <td>2010-12-01 08:26:00</td>\n",
       "      <td>3.39</td>\n",
       "      <td>17850.0</td>\n",
       "      <td>United Kingdom</td>\n",
       "    </tr>\n",
       "    <tr>\n",
       "      <th>4</th>\n",
       "      <td>536365</td>\n",
       "      <td>84029E</td>\n",
       "      <td>RED WOOLLY HOTTIE WHITE HEART.</td>\n",
       "      <td>6</td>\n",
       "      <td>2010-12-01 08:26:00</td>\n",
       "      <td>3.39</td>\n",
       "      <td>17850.0</td>\n",
       "      <td>United Kingdom</td>\n",
       "    </tr>\n",
       "  </tbody>\n",
       "</table>\n",
       "</div>"
      ],
      "text/plain": [
       "  InvoiceNo StockCode                          Description  Quantity  \\\n",
       "0    536365    85123A   WHITE HANGING HEART T-LIGHT HOLDER         6   \n",
       "1    536365     71053                  WHITE METAL LANTERN         6   \n",
       "2    536365    84406B       CREAM CUPID HEARTS COAT HANGER         8   \n",
       "3    536365    84029G  KNITTED UNION FLAG HOT WATER BOTTLE         6   \n",
       "4    536365    84029E       RED WOOLLY HOTTIE WHITE HEART.         6   \n",
       "\n",
       "          InvoiceDate  UnitPrice  CustomerID         Country  \n",
       "0 2010-12-01 08:26:00       2.55     17850.0  United Kingdom  \n",
       "1 2010-12-01 08:26:00       3.39     17850.0  United Kingdom  \n",
       "2 2010-12-01 08:26:00       2.75     17850.0  United Kingdom  \n",
       "3 2010-12-01 08:26:00       3.39     17850.0  United Kingdom  \n",
       "4 2010-12-01 08:26:00       3.39     17850.0  United Kingdom  "
      ]
     },
     "execution_count": 10,
     "metadata": {},
     "output_type": "execute_result"
    }
   ],
   "source": [
    "data.head()"
   ]
  },
  {
   "cell_type": "code",
   "execution_count": 11,
   "metadata": {
    "id": "tNb9Pu77SkLN"
   },
   "outputs": [],
   "source": [
    "min_freq = 3"
   ]
  },
  {
   "cell_type": "code",
   "execution_count": 12,
   "metadata": {
    "id": "iCJc7UbNRlv_",
    "outputId": "ba2e3252-52ec-475f-de20-558aad8ef22d"
   },
   "outputs": [
    {
     "name": "stdout",
     "output_type": "stream",
     "text": [
      "                                    InvoiceNo  StockCode  Quantity  \\\n",
      "Description                                                          \n",
      "WHITE HANGING HEART T-LIGHT HOLDER       2327       2327      2327   \n",
      "JUMBO BAG RED RETROSPOT                  2115       2115      2115   \n",
      "REGENCY CAKESTAND 3 TIER                 2019       2019      2019   \n",
      "PARTY BUNTING                            1707       1707      1707   \n",
      "LUNCH BAG RED RETROSPOT                  1594       1594      1594   \n",
      "...                                       ...        ...       ...   \n",
      "DIAMANTE NECKLACE PURPLE                    4          4         4   \n",
      "HOME SWEEET HOME 3 PEG HANGER               4          4         4   \n",
      "SET 10 CARD PERFECT NATIVITY 17089          4          4         4   \n",
      "BLACK GEMSTONE BRACELET                     4          4         4   \n",
      "SET 10 CARD SNOWMAN 16965                   4          4         4   \n",
      "\n",
      "                                    InvoiceDate  UnitPrice  CustomerID  \\\n",
      "Description                                                              \n",
      "WHITE HANGING HEART T-LIGHT HOLDER         2327       2327        2028   \n",
      "JUMBO BAG RED RETROSPOT                    2115       2115        1618   \n",
      "REGENCY CAKESTAND 3 TIER                   2019       2019        1724   \n",
      "PARTY BUNTING                              1707       1707        1397   \n",
      "LUNCH BAG RED RETROSPOT                    1594       1594        1316   \n",
      "...                                         ...        ...         ...   \n",
      "DIAMANTE NECKLACE PURPLE                      4          4           4   \n",
      "HOME SWEEET HOME 3 PEG HANGER                 4          4           4   \n",
      "SET 10 CARD PERFECT NATIVITY 17089            4          4           0   \n",
      "BLACK GEMSTONE BRACELET                       4          4           3   \n",
      "SET 10 CARD SNOWMAN 16965                     4          4           0   \n",
      "\n",
      "                                    Country  \n",
      "Description                                  \n",
      "WHITE HANGING HEART T-LIGHT HOLDER     2327  \n",
      "JUMBO BAG RED RETROSPOT                2115  \n",
      "REGENCY CAKESTAND 3 TIER               2019  \n",
      "PARTY BUNTING                          1707  \n",
      "LUNCH BAG RED RETROSPOT                1594  \n",
      "...                                     ...  \n",
      "DIAMANTE NECKLACE PURPLE                  4  \n",
      "HOME SWEEET HOME 3 PEG HANGER             4  \n",
      "SET 10 CARD PERFECT NATIVITY 17089        4  \n",
      "BLACK GEMSTONE BRACELET                   4  \n",
      "SET 10 CARD SNOWMAN 16965                 4  \n",
      "\n",
      "[3621 rows x 7 columns]\n"
     ]
    }
   ],
   "source": [
    "# Dropping all transactions which the frequency is less than 4\n",
    "count_item = data.groupby('Description').count().sort_values('InvoiceNo', ascending=False)\n",
    "count_item = count_item[count_item['InvoiceNo']>min_freq]\n",
    "print(count_item)\n",
    "\n",
    "data = data[data['Description'].isin(list(count_item.index))]"
   ]
  },
  {
   "cell_type": "code",
   "execution_count": 13,
   "metadata": {
    "id": "BlS3cpCLUlrA"
   },
   "outputs": [],
   "source": [
    "# Transactions done in USA\n",
    "basket_USA = (data[data['Country'] ==\"USA\"]\n",
    "          .groupby(['InvoiceNo', 'Description'])['Quantity']\n",
    "          .sum().unstack().reset_index().fillna(0)\n",
    "          .set_index('InvoiceNo'))\n",
    " \n",
    "# Transactions done in Canada\n",
    "basket_CAN = (data[data['Country'] ==\"Canada\"]\n",
    "          .groupby(['InvoiceNo', 'Description'])['Quantity']\n",
    "          .sum().unstack().reset_index().fillna(0)\n",
    "          .set_index('InvoiceNo'))\n",
    "\n",
    "# Transactions done in France\n",
    "basket_France = (data[data['Country'] ==\"France\"]\n",
    "          .groupby(['InvoiceNo', 'Description'])['Quantity']\n",
    "          .sum().unstack().reset_index().fillna(0)\n",
    "          .set_index('InvoiceNo'))\n",
    "\n",
    "# Transactions done in United Kingdom\n",
    "basket_UK = (data[data['Country'] ==\"United Kingdom\"]\n",
    "          .groupby(['InvoiceNo', 'Description'])['Quantity']\n",
    "          .sum().unstack().reset_index().fillna(0)\n",
    "          .set_index('InvoiceNo'))"
   ]
  },
  {
   "cell_type": "code",
   "execution_count": 14,
   "metadata": {
    "id": "Q5P-O50GVe9i",
    "outputId": "6fe21ce9-7c85-4833-b349-1c5bb3489917"
   },
   "outputs": [
    {
     "data": {
      "text/plain": [
       "(18460, 3621)"
      ]
     },
     "execution_count": 14,
     "metadata": {},
     "output_type": "execute_result"
    }
   ],
   "source": [
    "basket_UK.shape"
   ]
  },
  {
   "cell_type": "code",
   "execution_count": 15,
   "metadata": {
    "id": "YlDe90CYVPib"
   },
   "outputs": [],
   "source": [
    "# Defining the hot encoding function to make the data suitable for the concerned libraries\n",
    "def hot_encode(x):\n",
    "    if(x<= 0):\n",
    "        return 0\n",
    "    if(x>= 1):\n",
    "        return 1\n",
    " \n",
    "# Encoding the datasets\n",
    "basket_encoded = basket_USA.applymap(hot_encode)\n",
    "basket_USA = basket_encoded\n",
    " \n",
    "basket_encoded = basket_CAN.applymap(hot_encode)\n",
    "basket_CAN = basket_encoded\n",
    " \n",
    "basket_encoded = basket_France.applymap(hot_encode)\n",
    "basket_France = basket_encoded\n",
    "\n",
    "basket_encoded = basket_UK.applymap(hot_encode)\n",
    "basket_UK = basket_encoded"
   ]
  },
  {
   "cell_type": "markdown",
   "metadata": {
    "id": "SU1Fm0dlVPMS"
   },
   "source": [
    "### Apply Apriori Algorithm\n",
    "For large sets of data, there can be hundreds of items in hundreds of thousands transactions. The Apriori algorithm tries to extract rules for each possible combination of items.\n",
    "\n",
    "This process can be extremely slow due to the number of combinations. To speed up the process, we need to perform the following steps:\n",
    "\n",
    "1. Set a minimum value for support and confidence. This means that we are only interested in finding rules for the items that have certain default existence (e.g. support) and have a minimum value for co-occurrence with other items (e.g. confidence).\n",
    "1. Extract all the subsets having higher value of support than minimum threshold.\n",
    "1. Select all the rules from the subsets with confidence value higher than minimum threshold.\n",
    "1. Order the rules by descending order of Lift."
   ]
  },
  {
   "cell_type": "code",
   "execution_count": 16,
   "metadata": {
    "id": "lXoV0MrjsFKc"
   },
   "outputs": [],
   "source": [
    "min_sup = 0.05\n",
    "min_conf = 0.5"
   ]
  },
  {
   "cell_type": "code",
   "execution_count": 17,
   "metadata": {
    "id": "I7842sXeXx0M",
    "outputId": "a0ebd0cd-2218-4172-cb0f-63dc50fbf476"
   },
   "outputs": [
    {
     "name": "stdout",
     "output_type": "stream",
     "text": [
      "    support                       itemsets\n",
      "0  0.071429  (4 TRADITIONAL SPINNING TOPS)\n",
      "1  0.096939   (ALARM CLOCK BAKELIKE GREEN)\n",
      "2  0.102041    (ALARM CLOCK BAKELIKE PINK)\n",
      "3  0.094388     (ALARM CLOCK BAKELIKE RED)\n",
      "4  0.068878   (ASSORTED COLOUR MINI CASES)\n",
      "(195, 2)\n"
     ]
    }
   ],
   "source": [
    "# Now, let us return the items and itemsets with at least 5% support:\n",
    "# Building the aprior model\n",
    "frq_items = apriori(basket_France, min_support = min_sup, use_colnames = True)\n",
    "print(frq_items.head())\n",
    "print(frq_items.shape)"
   ]
  },
  {
   "cell_type": "code",
   "execution_count": 18,
   "metadata": {
    "id": "egrN93JKlfNx",
    "outputId": "656d9d4e-7acf-45f5-8bff-bf27077e22b3"
   },
   "outputs": [
    {
     "name": "stdout",
     "output_type": "stream",
     "text": [
      "    support                              itemsets\n",
      "0  0.765306                             (POSTAGE)\n",
      "1  0.181122       (RED TOADSTOOL LED NIGHT LIGHT)\n",
      "2  0.158163  (ROUND SNACK BOXES SET OF4 WOODLAND)\n",
      "3  0.125000                  (SPACEBOY LUNCH BOX)\n",
      "4  0.104592              (MINI PAINT SET VINTAGE)\n"
     ]
    }
   ],
   "source": [
    "# Building the FP growth model\n",
    "frq_items1 = fpgrowth(basket_France, min_support=min_sup, use_colnames=True)\n",
    "print(frq_items1.head())"
   ]
  },
  {
   "cell_type": "code",
   "execution_count": 19,
   "metadata": {
    "id": "pAB4dj-QJD2p",
    "outputId": "b8d537e2-978a-490d-d554-35e33ee57bf6"
   },
   "outputs": [
    {
     "data": {
      "text/plain": [
       "(195, 2)"
      ]
     },
     "execution_count": 19,
     "metadata": {},
     "output_type": "execute_result"
    }
   ],
   "source": [
    "frq_items1.shape"
   ]
  },
  {
   "cell_type": "markdown",
   "metadata": {
    "id": "sNzN8gzIlLuN"
   },
   "source": [
    "1. Selecting and Filtering Results\n",
    "\n",
    "The advantage of working with pandas DataFrames is that we can use its convenient features to filter the results. \n",
    "For instance, let's assume we are only interested in itemsets of length 2 that have a support of at least 80 percent. First, we create the frequent itemsets via apriori and add a new column that stores the length of each itemset:\n"
   ]
  },
  {
   "cell_type": "code",
   "execution_count": 20,
   "metadata": {
    "id": "HdLFcTVgk3Aq",
    "outputId": "f5e9341f-66e4-4e94-eb45-770b74c527fe"
   },
   "outputs": [
    {
     "name": "stdout",
     "output_type": "stream",
     "text": [
      "    support                       itemsets  length\n",
      "0  0.071429  (4 TRADITIONAL SPINNING TOPS)       1\n",
      "1  0.096939   (ALARM CLOCK BAKELIKE GREEN)       1\n",
      "2  0.102041    (ALARM CLOCK BAKELIKE PINK)       1\n",
      "3  0.094388     (ALARM CLOCK BAKELIKE RED)       1\n",
      "4  0.068878   (ASSORTED COLOUR MINI CASES)       1\n",
      "    support                              itemsets  length\n",
      "0  0.765306                             (POSTAGE)       1\n",
      "1  0.181122       (RED TOADSTOOL LED NIGHT LIGHT)       1\n",
      "2  0.158163  (ROUND SNACK BOXES SET OF4 WOODLAND)       1\n",
      "3  0.125000                  (SPACEBOY LUNCH BOX)       1\n",
      "4  0.104592              (MINI PAINT SET VINTAGE)       1\n"
     ]
    }
   ],
   "source": [
    "frq_items['length'] = frq_items['itemsets'].apply(lambda x: len(x))\n",
    "print(frq_items.head())\n",
    "frq_items1['length'] = frq_items1['itemsets'].apply(lambda x: len(x))\n",
    "print(frq_items1.head())"
   ]
  },
  {
   "cell_type": "code",
   "execution_count": 21,
   "metadata": {
    "id": "mmXKeMsurdZC",
    "outputId": "9a920e34-7ae8-45a6-b994-e40612d87901"
   },
   "outputs": [
    {
     "name": "stdout",
     "output_type": "stream",
     "text": [
      "      support                                           itemsets  length\n",
      "77   0.056122             (POSTAGE, 4 TRADITIONAL SPINNING TOPS)       2\n",
      "78   0.073980  (ALARM CLOCK BAKELIKE PINK, ALARM CLOCK BAKELI...       2\n",
      "79   0.079082  (ALARM CLOCK BAKELIKE GREEN, ALARM CLOCK BAKEL...       2\n",
      "80   0.084184              (ALARM CLOCK BAKELIKE GREEN, POSTAGE)       2\n",
      "81   0.073980  (ALARM CLOCK BAKELIKE PINK, ALARM CLOCK BAKELI...       2\n",
      "..        ...                                                ...     ...\n",
      "165  0.051020  (ROUND SNACK BOXES SET OF4 WOODLAND, RED RETRO...       2\n",
      "166  0.063776  (ROUND SNACK BOXES SET OF4 WOODLAND, ROUND SNA...       2\n",
      "167  0.102041  (SET/20 RED RETROSPOT PAPER NAPKINS, SET/6 RED...       2\n",
      "168  0.102041  (SET/20 RED RETROSPOT PAPER NAPKINS, SET/6 RED...       2\n",
      "169  0.122449  (SET/6 RED SPOTTY PAPER CUPS, SET/6 RED SPOTTY...       2\n",
      "\n",
      "[93 rows x 3 columns]\n",
      "      support                                           itemsets  length\n",
      "77   0.158163           (POSTAGE, RED TOADSTOOL LED NIGHT LIGHT)       2\n",
      "78   0.053571  (RABBIT NIGHT LIGHT, RED TOADSTOOL LED NIGHT L...       2\n",
      "79   0.147959      (ROUND SNACK BOXES SET OF4 WOODLAND, POSTAGE)       2\n",
      "80   0.053571  (ROUND SNACK BOXES SET OF4 WOODLAND, PLASTERS ...       2\n",
      "81   0.096939                      (POSTAGE, SPACEBOY LUNCH BOX)       2\n",
      "..        ...                                                ...     ...\n",
      "189  0.066327  (LUNCH BAG RED RETROSPOT, LUNCH BAG APPLE DESIGN)       2\n",
      "191  0.063776  (CHILDRENS CUTLERY SPACEBOY, CHILDRENS CUTLERY...       2\n",
      "192  0.053571             (CHARLOTTE BAG APPLES DESIGN, POSTAGE)       2\n",
      "193  0.058673                        (POSTAGE, JUMBO BAG APPLES)       2\n",
      "194  0.165816                      (RABBIT NIGHT LIGHT, POSTAGE)       2\n",
      "\n",
      "[93 rows x 3 columns]\n"
     ]
    }
   ],
   "source": [
    "print(frq_items[ (frq_items['length'] == 2) & (frq_items['support'] >= min_sup) ])\n",
    "print(frq_items1[ (frq_items1['length'] == 2) & (frq_items1['support'] >= min_sup) ])"
   ]
  },
  {
   "cell_type": "markdown",
   "metadata": {
    "id": "czSTnxpa092D"
   },
   "source": [
    "The generate_rules takes dataframes of frequent itemsets as produced by the `apriori`, `fpgrowth`, or `fpmax` functions in mlxtend.association. To demonstrate the usage of the generate_rules method, we first create a pandas DataFrame of frequent itemsets as generated by the `apriori` function:\n",
    "\n",
    "a) apriori model"
   ]
  },
  {
   "cell_type": "code",
   "execution_count": 22,
   "metadata": {
    "id": "d9tW7dX5mMJ2",
    "outputId": "7094642b-56dd-43ee-9b9d-e81c1140bfab"
   },
   "outputs": [
    {
     "name": "stdout",
     "output_type": "stream",
     "text": [
      "                                           antecedents  \\\n",
      "29                        (JUMBO BAG WOODLAND ANIMALS)   \n",
      "146  (PLASTERS IN TIN CIRCUS PARADE, RED TOADSTOOL ...   \n",
      "151  (PLASTERS IN TIN WOODLAND ANIMALS, RED TOADSTO...   \n",
      "170  (SET/20 RED RETROSPOT PAPER NAPKINS, SET/6 RED...   \n",
      "171  (SET/20 RED RETROSPOT PAPER NAPKINS, SET/6 RED...   \n",
      "\n",
      "                         consequents  antecedent support  consequent support  \\\n",
      "29                         (POSTAGE)            0.076531            0.765306   \n",
      "146                        (POSTAGE)            0.051020            0.765306   \n",
      "151                        (POSTAGE)            0.053571            0.765306   \n",
      "170  (SET/6 RED SPOTTY PAPER PLATES)            0.102041            0.127551   \n",
      "171    (SET/6 RED SPOTTY PAPER CUPS)            0.102041            0.137755   \n",
      "\n",
      "      support  confidence      lift  leverage  conviction  \n",
      "29   0.076531       1.000  1.306667  0.017961         inf  \n",
      "146  0.051020       1.000  1.306667  0.011974         inf  \n",
      "151  0.053571       1.000  1.306667  0.012573         inf  \n",
      "170  0.099490       0.975  7.644000  0.086474   34.897959  \n",
      "171  0.099490       0.975  7.077778  0.085433   34.489796  \n"
     ]
    }
   ],
   "source": [
    "# Collecting the inferred rules in a dataframe\n",
    "rules = association_rules(frq_items, metric =\"confidence\", min_threshold = min_conf)\n",
    "rules = rules.sort_values(['confidence', 'lift'], ascending =[False, False])\n",
    "print(rules.head())"
   ]
  },
  {
   "cell_type": "markdown",
   "metadata": {
    "id": "HIuhlz7u1W-N"
   },
   "source": [
    "b) FP growth model"
   ]
  },
  {
   "cell_type": "code",
   "execution_count": 23,
   "metadata": {
    "id": "Zocbvpea0VxF",
    "outputId": "6d42a8f8-772c-45c7-8a41-d34397a4cefc"
   },
   "outputs": [
    {
     "name": "stdout",
     "output_type": "stream",
     "text": [
      "                                           antecedents  \\\n",
      "66   (PLASTERS IN TIN WOODLAND ANIMALS, RED TOADSTO...   \n",
      "165  (PLASTERS IN TIN CIRCUS PARADE, RED TOADSTOOL ...   \n",
      "198                       (JUMBO BAG WOODLAND ANIMALS)   \n",
      "123  (SET/20 RED RETROSPOT PAPER NAPKINS, SET/6 RED...   \n",
      "124  (SET/20 RED RETROSPOT PAPER NAPKINS, SET/6 RED...   \n",
      "\n",
      "                         consequents  antecedent support  consequent support  \\\n",
      "66                         (POSTAGE)            0.053571            0.765306   \n",
      "165                        (POSTAGE)            0.051020            0.765306   \n",
      "198                        (POSTAGE)            0.076531            0.765306   \n",
      "123  (SET/6 RED SPOTTY PAPER PLATES)            0.102041            0.127551   \n",
      "124    (SET/6 RED SPOTTY PAPER CUPS)            0.102041            0.137755   \n",
      "\n",
      "      support  confidence      lift  leverage  conviction  \n",
      "66   0.053571       1.000  1.306667  0.012573         inf  \n",
      "165  0.051020       1.000  1.306667  0.011974         inf  \n",
      "198  0.076531       1.000  1.306667  0.017961         inf  \n",
      "123  0.099490       0.975  7.644000  0.086474   34.897959  \n",
      "124  0.099490       0.975  7.077778  0.085433   34.489796  \n"
     ]
    }
   ],
   "source": [
    "rules1 = association_rules(frq_items1, metric =\"confidence\", min_threshold = min_conf)\n",
    "rules1 = rules1.sort_values(['confidence', 'lift'], ascending =[False, False])\n",
    "print(rules1.head())"
   ]
  },
  {
   "cell_type": "markdown",
   "metadata": {
    "id": "Q2lIkN_nRzNU"
   },
   "source": [
    "### Viewing the Results\n",
    "Pandas DataFrames make it easy to filter the results further. Let's say we are ony interested in rules that satisfy the following criteria:\n",
    "\n",
    "at least 2 antecedents\n",
    "a confidence > 0.95\n",
    "a lift score > 7\n",
    "We could compute the antecedent length as follows:"
   ]
  },
  {
   "cell_type": "code",
   "execution_count": 24,
   "metadata": {
    "id": "3znKWtL8tTmG",
    "outputId": "e816655e-d4b2-41cb-eb5c-cd5247130eb3"
   },
   "outputs": [
    {
     "data": {
      "text/html": [
       "<div>\n",
       "<style scoped>\n",
       "    .dataframe tbody tr th:only-of-type {\n",
       "        vertical-align: middle;\n",
       "    }\n",
       "\n",
       "    .dataframe tbody tr th {\n",
       "        vertical-align: top;\n",
       "    }\n",
       "\n",
       "    .dataframe thead th {\n",
       "        text-align: right;\n",
       "    }\n",
       "</style>\n",
       "<table border=\"1\" class=\"dataframe\">\n",
       "  <thead>\n",
       "    <tr style=\"text-align: right;\">\n",
       "      <th></th>\n",
       "      <th>antecedents</th>\n",
       "      <th>consequents</th>\n",
       "      <th>antecedent support</th>\n",
       "      <th>consequent support</th>\n",
       "      <th>support</th>\n",
       "      <th>confidence</th>\n",
       "      <th>lift</th>\n",
       "      <th>leverage</th>\n",
       "      <th>conviction</th>\n",
       "      <th>antecedent_len</th>\n",
       "    </tr>\n",
       "  </thead>\n",
       "  <tbody>\n",
       "    <tr>\n",
       "      <th>170</th>\n",
       "      <td>(SET/20 RED RETROSPOT PAPER NAPKINS, SET/6 RED...</td>\n",
       "      <td>(SET/6 RED SPOTTY PAPER PLATES)</td>\n",
       "      <td>0.102041</td>\n",
       "      <td>0.127551</td>\n",
       "      <td>0.099490</td>\n",
       "      <td>0.975000</td>\n",
       "      <td>7.644000</td>\n",
       "      <td>0.086474</td>\n",
       "      <td>34.897959</td>\n",
       "      <td>2</td>\n",
       "    </tr>\n",
       "    <tr>\n",
       "      <th>171</th>\n",
       "      <td>(SET/20 RED RETROSPOT PAPER NAPKINS, SET/6 RED...</td>\n",
       "      <td>(SET/6 RED SPOTTY PAPER CUPS)</td>\n",
       "      <td>0.102041</td>\n",
       "      <td>0.137755</td>\n",
       "      <td>0.099490</td>\n",
       "      <td>0.975000</td>\n",
       "      <td>7.077778</td>\n",
       "      <td>0.085433</td>\n",
       "      <td>34.489796</td>\n",
       "      <td>2</td>\n",
       "    </tr>\n",
       "    <tr>\n",
       "      <th>196</th>\n",
       "      <td>(SET/20 RED RETROSPOT PAPER NAPKINS, POSTAGE, ...</td>\n",
       "      <td>(SET/6 RED SPOTTY PAPER PLATES)</td>\n",
       "      <td>0.084184</td>\n",
       "      <td>0.127551</td>\n",
       "      <td>0.081633</td>\n",
       "      <td>0.969697</td>\n",
       "      <td>7.602424</td>\n",
       "      <td>0.070895</td>\n",
       "      <td>28.790816</td>\n",
       "      <td>3</td>\n",
       "    </tr>\n",
       "    <tr>\n",
       "      <th>197</th>\n",
       "      <td>(SET/20 RED RETROSPOT PAPER NAPKINS, POSTAGE, ...</td>\n",
       "      <td>(SET/6 RED SPOTTY PAPER CUPS)</td>\n",
       "      <td>0.084184</td>\n",
       "      <td>0.137755</td>\n",
       "      <td>0.081633</td>\n",
       "      <td>0.969697</td>\n",
       "      <td>7.039282</td>\n",
       "      <td>0.070036</td>\n",
       "      <td>28.454082</td>\n",
       "      <td>3</td>\n",
       "    </tr>\n",
       "  </tbody>\n",
       "</table>\n",
       "</div>"
      ],
      "text/plain": [
       "                                           antecedents  \\\n",
       "170  (SET/20 RED RETROSPOT PAPER NAPKINS, SET/6 RED...   \n",
       "171  (SET/20 RED RETROSPOT PAPER NAPKINS, SET/6 RED...   \n",
       "196  (SET/20 RED RETROSPOT PAPER NAPKINS, POSTAGE, ...   \n",
       "197  (SET/20 RED RETROSPOT PAPER NAPKINS, POSTAGE, ...   \n",
       "\n",
       "                         consequents  antecedent support  consequent support  \\\n",
       "170  (SET/6 RED SPOTTY PAPER PLATES)            0.102041            0.127551   \n",
       "171    (SET/6 RED SPOTTY PAPER CUPS)            0.102041            0.137755   \n",
       "196  (SET/6 RED SPOTTY PAPER PLATES)            0.084184            0.127551   \n",
       "197    (SET/6 RED SPOTTY PAPER CUPS)            0.084184            0.137755   \n",
       "\n",
       "      support  confidence      lift  leverage  conviction  antecedent_len  \n",
       "170  0.099490    0.975000  7.644000  0.086474   34.897959               2  \n",
       "171  0.099490    0.975000  7.077778  0.085433   34.489796               2  \n",
       "196  0.081633    0.969697  7.602424  0.070895   28.790816               3  \n",
       "197  0.081633    0.969697  7.039282  0.070036   28.454082               3  "
      ]
     },
     "execution_count": 24,
     "metadata": {},
     "output_type": "execute_result"
    }
   ],
   "source": [
    "rules[\"antecedent_len\"] = rules[\"antecedents\"].apply(lambda x: len(x))\n",
    "rules[ (rules['antecedent_len'] >= 2) &\n",
    "       (rules['confidence'] > 0.95) &\n",
    "       (rules['lift'] > 7) ]"
   ]
  },
  {
   "cell_type": "code",
   "execution_count": 25,
   "metadata": {
    "id": "b-Ibb1Og-UPX",
    "outputId": "cc994ffb-5f66-4c8c-a95e-0cc375123884"
   },
   "outputs": [
    {
     "data": {
      "image/png": "[encoded data removed]",
      "text/plain": [
       "<Figure size 432x288 with 1 Axes>"
      ]
     },
     "metadata": {
      "needs_background": "light"
     },
     "output_type": "display_data"
    }
   ],
   "source": [
    "plt.scatter(rules['support'], rules['confidence'], alpha=0.5)\n",
    "plt.xlabel('support')\n",
    "plt.ylabel('confidence')\n",
    "plt.title('Support vs Confidence')\n",
    "plt.show()"
   ]
  },
  {
   "cell_type": "code",
   "execution_count": 26,
   "metadata": {
    "id": "Ar75W8E6_H1j",
    "outputId": "8bc087be-3840-4d0b-aa4a-46a2c46609d1"
   },
   "outputs": [
    {
     "data": {
      "image/png": "[encoded data removed]",
      "text/plain": [
       "<Figure size 432x288 with 1 Axes>"
      ]
     },
     "metadata": {
      "needs_background": "light"
     },
     "output_type": "display_data"
    }
   ],
   "source": [
    "plt.scatter(rules['support'], rules['lift'], alpha=0.5)\n",
    "plt.xlabel('support')\n",
    "plt.ylabel('lift')\n",
    "plt.title('Support vs lift')\n",
    "plt.show()"
   ]
  },
  {
   "cell_type": "code",
   "execution_count": 27,
   "metadata": {
    "id": "aBMlfnt-_nYk",
    "outputId": "c9c17730-ecbf-46f7-99e6-719b36e2e913"
   },
   "outputs": [
    {
     "data": {
      "image/png": "[encoded data removed]",
      "text/plain": [
       "<Figure size 432x288 with 1 Axes>"
      ]
     },
     "metadata": {
      "needs_background": "light"
     },
     "output_type": "display_data"
    }
   ],
   "source": [
    "plt.scatter(rules['lift'], rules['confidence'], alpha=0.5)\n",
    "plt.xlabel('lift')\n",
    "plt.ylabel('confidence')\n",
    "plt.title('lift vs confidence')\n",
    "plt.show()"
   ]
  },
  {
   "cell_type": "code",
   "execution_count": null,
   "metadata": {},
   "outputs": [],
   "source": []
  }
 ],
 "metadata": {
  "kernelspec": {
   "display_name": "Python 3",
   "language": "python",
   "name": "python3"
  },
  "language_info": {
   "codemirror_mode": {
    "name": "ipython",
    "version": 3
   },
   "file_extension": ".py",
   "mimetype": "text/x-python",
   "name": "python",
   "nbconvert_exporter": "python",
   "pygments_lexer": "ipython3",
   "version": "3.8.8"
  }
 },
 "nbformat": 4,
 "nbformat_minor": 4
}
